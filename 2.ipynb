{
  "nbformat": 4,
  "nbformat_minor": 0,
  "metadata": {
    "colab": {
      "provenance": []
    },
    "kernelspec": {
      "name": "python3",
      "display_name": "Python 3"
    },
    "language_info": {
      "name": "python"
    }
  },
  "cells": [
    {
      "cell_type": "code",
      "execution_count": null,
      "metadata": {
        "colab": {
          "base_uri": "https://localhost:8080/"
        },
        "id": "zvqgGJPg11Az",
        "outputId": "4eab3534-07e2-43e8-97ea-cc4807a8ba49"
      },
      "outputs": [
        {
          "output_type": "stream",
          "name": "stdout",
          "text": [
            "1 4\n",
            "2 5\n",
            "3 6\n"
          ]
        }
      ],
      "source": [
        "#1)iterate both simultaneously\n",
        "# EX ls 1=[1,2,3]\n",
        "#    ls 2=[4,5,6]\n",
        "ls1=[1,2,3]\n",
        "ls2=[4,5,6]\n",
        "for i,j in zip(ls1,ls2):\n",
        "  print(i,j)"
      ]
    },
    {
      "cell_type": "code",
      "source": [
        "# 2) replace lists item with new value if found \n",
        "#you have given a pythion list. write a program to find values in list and if it is present replace it with 200 .only update the first occurence of an item\n",
        "list1=[5,10,15,20,25,50,20]\n",
        "x=list1.index(20)\n",
        "list1[3]=200\n",
        "print(list1)\n",
        "    "
      ],
      "metadata": {
        "colab": {
          "base_uri": "https://localhost:8080/"
        },
        "id": "jYssYMfM36vw",
        "outputId": "06893e10-fa85-4c4d-cb38-971f9b5ea960"
      },
      "execution_count": 14,
      "outputs": [
        {
          "output_type": "stream",
          "name": "stdout",
          "text": [
            "[5, 10, 15, 200, 25, 50, 20]\n"
          ]
        }
      ]
    },
    {
      "cell_type": "code",
      "source": [
        "#3) reverse a list using a for loop?\n",
        "ls1=[1,2,3]\n",
        "ls2=[]\n",
        "for i in ls1[::-1]:\n",
        "  ls2.append(i)\n",
        "print(ls2)\n"
      ],
      "metadata": {
        "colab": {
          "base_uri": "https://localhost:8080/"
        },
        "id": "zPFkGge46Obp",
        "outputId": "5eb4b42f-339b-4cd2-9236-5caa89109f47"
      },
      "execution_count": 11,
      "outputs": [
        {
          "output_type": "stream",
          "name": "stdout",
          "text": [
            "[3, 2, 1]\n"
          ]
        }
      ]
    },
    {
      "cell_type": "code",
      "source": [
        "#4)replace all 's' from strings with 'c'\n",
        "s1='so what i can not see you'\n",
        "x=s1.replace('s','c')\n",
        "print(x)"
      ],
      "metadata": {
        "colab": {
          "base_uri": "https://localhost:8080/"
        },
        "id": "cZbn4jAL7HNE",
        "outputId": "d6b8e338-3b4e-4a9c-ade1-76aa51238151"
      },
      "execution_count": null,
      "outputs": [
        {
          "output_type": "stream",
          "name": "stdout",
          "text": [
            "co what i can not cee you\n"
          ]
        }
      ]
    },
    {
      "cell_type": "code",
      "source": [
        "#5)Reverse string and then reverse it without for loop use onl slicing.\n",
        "a=\"gautham\"\n",
        "print(a[::-1][::-1])"
      ],
      "metadata": {
        "id": "j8dV8OPK-AOm",
        "colab": {
          "base_uri": "https://localhost:8080/"
        },
        "outputId": "0be49950-6c86-435e-d0b6-ec9d855ae78d"
      },
      "execution_count": 17,
      "outputs": [
        {
          "output_type": "stream",
          "name": "stdout",
          "text": [
            "gautham\n"
          ]
        }
      ]
    },
    {
      "cell_type": "code",
      "source": [
        "#6) remove all emoty spaces from a string?\n",
        "s1=\"my name is sahib\"\n",
        "ls=[]\n",
        "for i in list(s1):\n",
        "  if i!=\" \":\n",
        "   ls.append(i)\n",
        "print(\"\".join(ls))\n"
      ],
      "metadata": {
        "colab": {
          "base_uri": "https://localhost:8080/"
        },
        "id": "SsqzC4r8ASlU",
        "outputId": "03415966-4590-49e1-a47f-df2fba1ed75b"
      },
      "execution_count": 8,
      "outputs": [
        {
          "output_type": "stream",
          "name": "stdout",
          "text": [
            "mynameissahib\n"
          ]
        }
      ]
    }
  ]
}