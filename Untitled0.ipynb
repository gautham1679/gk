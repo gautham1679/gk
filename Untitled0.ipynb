{
  "nbformat": 4,
  "nbformat_minor": 0,
  "metadata": {
    "colab": {
      "provenance": [],
      "collapsed_sections": []
    },
    "kernelspec": {
      "name": "python3",
      "display_name": "Python 3"
    },
    "language_info": {
      "name": "python"
    }
  },
  "cells": [
    {
      "cell_type": "code",
      "execution_count": null,
      "metadata": {
        "colab": {
          "base_uri": "https://localhost:8080/"
        },
        "id": "KK-37al0J9oz",
        "outputId": "5094b5d6-e5b5-48d1-f802-e30749b0fd25"
      },
      "outputs": [
        {
          "output_type": "execute_result",
          "data": {
            "text/plain": [
              "625"
            ]
          },
          "metadata": {},
          "execution_count": 1
        }
      ],
      "source": [
        "25*25"
      ]
    },
    {
      "cell_type": "code",
      "source": [
        "usr=input(\"please enter your name\")\n",
        "print(usr)"
      ],
      "metadata": {
        "colab": {
          "base_uri": "https://localhost:8080/"
        },
        "id": "AQns1zGEMr5p",
        "outputId": "113a8ea8-26c1-4172-f15c-5dd91730e571"
      },
      "execution_count": null,
      "outputs": [
        {
          "output_type": "stream",
          "name": "stdout",
          "text": [
            "please enter your namegautham krishna\n",
            "gautham krishna\n"
          ]
        }
      ]
    },
    {
      "cell_type": "code",
      "source": [
        "usr=input(\"please enter your age\")\n",
        "print(type(int(usr)))"
      ],
      "metadata": {
        "colab": {
          "base_uri": "https://localhost:8080/"
        },
        "id": "x_UtrxArNw2Z",
        "outputId": "066ee8ed-d856-499f-9e8e-db39c1258d6c"
      },
      "execution_count": null,
      "outputs": [
        {
          "output_type": "stream",
          "name": "stdout",
          "text": [
            "please enter your age 18\n",
            "<class 'int'>\n"
          ]
        }
      ]
    },
    {
      "cell_type": "code",
      "source": [
        "usr1=input(\"my name is\")\n",
        "usr2=input(\"my age is\")\n",
        "print(usr1,usr2)\n"
      ],
      "metadata": {
        "colab": {
          "base_uri": "https://localhost:8080/"
        },
        "id": "yE-6j67TOnSE",
        "outputId": "0c753767-1142-4ac2-90fc-7575b8618ef8"
      },
      "execution_count": null,
      "outputs": [
        {
          "output_type": "stream",
          "name": "stdout",
          "text": [
            "my name isgautham\n",
            "my age is18\n",
            "gautham 18\n"
          ]
        }
      ]
    },
    {
      "cell_type": "code",
      "source": [
        "usr1=input(\"what is your name\")\n",
        "user2=input(\"what is your age\")\n",
        "print(usr1+usr2)"
      ],
      "metadata": {
        "colab": {
          "base_uri": "https://localhost:8080/"
        },
        "id": "zsfMEVY1U3qu",
        "outputId": "60f59e3c-1120-4718-c488-a3acfa182964"
      },
      "execution_count": null,
      "outputs": [
        {
          "output_type": "stream",
          "name": "stdout",
          "text": [
            "what is your namegautham\n",
            "what is your age18\n",
            "gautham18\n"
          ]
        }
      ]
    },
    {
      "cell_type": "code",
      "source": [
        "usr1=input(\"what is your name\")\n",
        "usr2=input(\"what ii your age\")\n",
        "print(usr1,usr2,sep='##',end='$')\n",
        "print(\"hey\")"
      ],
      "metadata": {
        "colab": {
          "base_uri": "https://localhost:8080/"
        },
        "id": "Ckbhw2EHV2sB",
        "outputId": "fd0b884e-0d84-4458-cb5f-7fd0a7db4de8"
      },
      "execution_count": null,
      "outputs": [
        {
          "output_type": "stream",
          "name": "stdout",
          "text": [
            "what is your namegautham\n",
            "what ii your age18\n",
            "gautham##18$hey\n"
          ]
        }
      ]
    },
    {
      "cell_type": "code",
      "source": [
        "hello=18.11\n",
        "print(type(hello))"
      ],
      "metadata": {
        "colab": {
          "base_uri": "https://localhost:8080/"
        },
        "id": "D1CmbUQLXeEv",
        "outputId": "81a8e763-6dff-41e9-da89-86a8f3cacd3c"
      },
      "execution_count": null,
      "outputs": [
        {
          "output_type": "stream",
          "name": "stdout",
          "text": [
            "<class 'float'>\n"
          ]
        }
      ]
    },
    {
      "cell_type": "code",
      "source": [
        "lst_var=[\"gautham\" , 18 ]\n",
        "print(lst_var)\n",
        "print(type(lst_var))\n",
        "print(lst_var)"
      ],
      "metadata": {
        "colab": {
          "base_uri": "https://localhost:8080/"
        },
        "id": "XBaNSCEOabig",
        "outputId": "fbc1d804-7d20-40f0-b212-55f24cdbe58d"
      },
      "execution_count": null,
      "outputs": [
        {
          "output_type": "stream",
          "name": "stdout",
          "text": [
            "['gautham', 18]\n",
            "<class 'list'>\n",
            "['gautham', 18]\n"
          ]
        }
      ]
    },
    {
      "cell_type": "code",
      "source": [
        "tup_var=('a','b',1,2.0,3)\n",
        "print(tup_var)\n",
        "print(type(tup_var))"
      ],
      "metadata": {
        "colab": {
          "base_uri": "https://localhost:8080/"
        },
        "id": "HG4FXPb8c0Cv",
        "outputId": "6029e0db-07d7-4904-c857-fc54101df55e"
      },
      "execution_count": null,
      "outputs": [
        {
          "output_type": "stream",
          "name": "stdout",
          "text": [
            "('a', 'b', 1, 2.0, 3)\n",
            "<class 'tuple'>\n"
          ]
        }
      ]
    },
    {
      "cell_type": "code",
      "source": [
        "tup_var=('a','b',1,2,[1,2,3])\n",
        "print(tup_var)\n",
        "lst_var=['a','b',(1,2,3)]\n",
        "print(lst_var)"
      ],
      "metadata": {
        "colab": {
          "base_uri": "https://localhost:8080/"
        },
        "id": "pOLUoLTltww7",
        "outputId": "f6f76a8a-02b1-43ba-bd2b-37d29b8e06c2"
      },
      "execution_count": null,
      "outputs": [
        {
          "output_type": "stream",
          "name": "stdout",
          "text": [
            "('a', 'b', 1, 2, [1, 2, 3])\n",
            "['a', 'b', (1, 2, 3)]\n"
          ]
        }
      ]
    },
    {
      "cell_type": "code",
      "source": [
        "tup_var=(1,2,3)\n",
        "print(type(list(tup_var)))"
      ],
      "metadata": {
        "colab": {
          "base_uri": "https://localhost:8080/"
        },
        "id": "NVEzwV1Aus9D",
        "outputId": "c613a00c-416d-4d62-e1d2-f3f1675e371d"
      },
      "execution_count": null,
      "outputs": [
        {
          "output_type": "stream",
          "name": "stdout",
          "text": [
            "<class 'list'>\n"
          ]
        }
      ]
    },
    {
      "cell_type": "code",
      "source": [
        "lst_var=[1,2,3]\n",
        "print(type(tuple(lst_var)))"
      ],
      "metadata": {
        "colab": {
          "base_uri": "https://localhost:8080/"
        },
        "id": "zWmrAuGavs9a",
        "outputId": "3674db23-cf4f-414e-c60b-2953c79d8948"
      },
      "execution_count": null,
      "outputs": [
        {
          "output_type": "stream",
          "name": "stdout",
          "text": [
            "<class 'tuple'>\n"
          ]
        }
      ]
    },
    {
      "cell_type": "code",
      "source": [
        "dict_type={\"india\":\"new delhi\",\n",
        "           \"india\":\"new delhi\"}\n",
        "print(dict_type)\n",
        "print(type(dict_type))"
      ],
      "metadata": {
        "colab": {
          "base_uri": "https://localhost:8080/"
        },
        "id": "mvHpKGZUwGIC",
        "outputId": "a2547711-125a-4eea-90a3-12dbedd0c334"
      },
      "execution_count": null,
      "outputs": [
        {
          "output_type": "stream",
          "name": "stdout",
          "text": [
            "{'india': 'new delhi'}\n",
            "<class 'dict'>\n"
          ]
        }
      ]
    },
    {
      "cell_type": "code",
      "source": [
        "set_type={1,1,3,2,\"big\",\"small\"}\n",
        "print(set_type)"
      ],
      "metadata": {
        "colab": {
          "base_uri": "https://localhost:8080/"
        },
        "id": "c13W3Cihxloz",
        "outputId": "f50c6af3-d1fb-4c9b-f9f2-fbcf9ee6993f"
      },
      "execution_count": null,
      "outputs": [
        {
          "output_type": "stream",
          "name": "stdout",
          "text": [
            "{1, 2, 3, 'small', 'big'}\n"
          ]
        }
      ]
    },
    {
      "cell_type": "code",
      "source": [
        "y=[2,42,36,47,5,2,1,47,36,42,7,8,8,8,92,5,7]\n",
        "\n",
        "result=list(set(y))\n",
        "print(result)\n",
        "\n"
      ],
      "metadata": {
        "colab": {
          "base_uri": "https://localhost:8080/"
        },
        "id": "WX-3HXfYzEkm",
        "outputId": "69e5cade-7804-46bf-b69c-0d7ca9865978"
      },
      "execution_count": null,
      "outputs": [
        {
          "output_type": "stream",
          "name": "stdout",
          "text": [
            "[1, 2, 36, 5, 7, 8, 42, 47, 92]\n"
          ]
        }
      ]
    },
    {
      "cell_type": "code",
      "source": [
        "lst_var=[1,2,3,45,67,42,100,129,45,78,92,65,8,23,12,90,150,117]\n",
        "print(\"the number of items in the list are :\",len(lst_var))\n",
        "print(\"the greatest number in the list:\",max(lst_var))\n",
        "print(\"the smallest number:\",min(lst_var))\n",
        "print(\"sum of all elements in the list\",sum(lst_var))\n",
        "print(\"product of all numbers in the list:\")"
      ],
      "metadata": {
        "colab": {
          "base_uri": "https://localhost:8080/"
        },
        "id": "-K_YT6oYz0Uu",
        "outputId": "92cc7e91-f2a4-4f33-ae8e-675eea3d2e39"
      },
      "execution_count": null,
      "outputs": [
        {
          "output_type": "stream",
          "name": "stdout",
          "text": [
            "the number of items in the list are : 18\n",
            "the greatest number in the list: 150\n",
            "the smallest number: 1\n",
            "sum of all elements in the list 1069\n",
            "product of all numbers in the list:\n"
          ]
        }
      ]
    },
    {
      "cell_type": "code",
      "source": [
        "a=1\n",
        "while a<100:\n",
        "  a=a+1\n",
        "print(\"loop complete\")"
      ],
      "metadata": {
        "colab": {
          "base_uri": "https://localhost:8080/"
        },
        "id": "pWbrE0pL2lBi",
        "outputId": "16ba8252-e5fc-41df-ef83-bee39ae3b081"
      },
      "execution_count": null,
      "outputs": [
        {
          "output_type": "stream",
          "name": "stdout",
          "text": [
            "loop complete\n"
          ]
        }
      ]
    },
    {
      "cell_type": "code",
      "source": [
        "for elem in lst_var:\n",
        "  print(elem)\n",
        "print(elem)"
      ],
      "metadata": {
        "id": "ntlt9Lb66VbS",
        "colab": {
          "base_uri": "https://localhost:8080/"
        },
        "outputId": "197c4e55-da47-4b1b-d462-3c9f03bd06e0"
      },
      "execution_count": null,
      "outputs": [
        {
          "output_type": "stream",
          "name": "stdout",
          "text": [
            "1\n",
            "2\n",
            "3\n",
            "45\n",
            "67\n",
            "42\n",
            "100\n",
            "129\n",
            "45\n",
            "78\n",
            "92\n",
            "65\n",
            "8\n",
            "23\n",
            "12\n",
            "90\n",
            "150\n",
            "117\n",
            "117\n"
          ]
        }
      ]
    },
    {
      "cell_type": "code",
      "source": [
        "x=1\n",
        "for elem in lst_var:\n",
        "    x=x*elem\n",
        "print(x)"
      ],
      "metadata": {
        "colab": {
          "base_uri": "https://localhost:8080/"
        },
        "id": "o_3zpRPjIYZb",
        "outputId": "14eafbaa-b70d-48d2-ae47-3aee82a33e98"
      },
      "execution_count": null,
      "outputs": [
        {
          "output_type": "stream",
          "name": "stdout",
          "text": [
            "717471356219240313600000000\n"
          ]
        }
      ]
    },
    {
      "cell_type": "code",
      "source": [
        "x=16%5\n",
        "print(x)"
      ],
      "metadata": {
        "colab": {
          "base_uri": "https://localhost:8080/"
        },
        "id": "o5Gbwnm2KI9t",
        "outputId": "303c3c02-c0fa-43e5-b649-01f84392273a"
      },
      "execution_count": null,
      "outputs": [
        {
          "output_type": "stream",
          "name": "stdout",
          "text": [
            "1\n"
          ]
        }
      ]
    },
    {
      "cell_type": "code",
      "source": [
        "x=2**5\n",
        "print(x)"
      ],
      "metadata": {
        "colab": {
          "base_uri": "https://localhost:8080/"
        },
        "id": "lNPwkuIzLCdE",
        "outputId": "99740864-2b02-4b54-ed7b-3dc698400ff8"
      },
      "execution_count": null,
      "outputs": [
        {
          "output_type": "stream",
          "name": "stdout",
          "text": [
            "32\n"
          ]
        }
      ]
    },
    {
      "cell_type": "code",
      "source": [
        "\n",
        "for elem in lst_var:\n",
        "    x=elem**3\n",
        "    print(x)"
      ],
      "metadata": {
        "colab": {
          "base_uri": "https://localhost:8080/"
        },
        "id": "lR_cnSP2LVE9",
        "outputId": "e0839a78-3eed-4d65-f311-8cdfb506b6a3"
      },
      "execution_count": null,
      "outputs": [
        {
          "output_type": "stream",
          "name": "stdout",
          "text": [
            "1\n",
            "8\n",
            "27\n",
            "91125\n",
            "300763\n",
            "74088\n",
            "1000000\n",
            "2146689\n",
            "91125\n",
            "474552\n",
            "778688\n",
            "274625\n",
            "512\n",
            "12167\n",
            "1728\n",
            "729000\n",
            "3375000\n",
            "1601613\n"
          ]
        }
      ]
    },
    {
      "cell_type": "code",
      "source": [
        "pers_A=19\n",
        "pers_B=17\n",
        "var_check=(pers_A>18)and(pers_B>18)\n",
        "print(var_check)"
      ],
      "metadata": {
        "colab": {
          "base_uri": "https://localhost:8080/"
        },
        "id": "6zFA4qdzLywN",
        "outputId": "9a541ea8-7669-4e62-c182-27c8cd50b91d"
      },
      "execution_count": null,
      "outputs": [
        {
          "output_type": "stream",
          "name": "stdout",
          "text": [
            "False\n"
          ]
        }
      ]
    },
    {
      "cell_type": "code",
      "source": [
        "print(not True)\n",
        "print(not False)"
      ],
      "metadata": {
        "colab": {
          "base_uri": "https://localhost:8080/"
        },
        "id": "9b4MUiRfNznD",
        "outputId": "0a004629-7b45-4431-d688-29c480f28ae9"
      },
      "execution_count": null,
      "outputs": [
        {
          "output_type": "stream",
          "name": "stdout",
          "text": [
            "False\n",
            "True\n"
          ]
        }
      ]
    },
    {
      "cell_type": "code",
      "source": [
        "pers_A=20\n",
        "pers_B=18\n",
        "if (pers_A>=18)and(pers_B>=18):\n",
        "   print(\"let them in\")\n",
        "elif pers_A>=18 and pers_B<18:\n",
        "  print(\"Let person A inside\")\n",
        "elif pers_A<18 and pers_B>=18:\n",
        "  print(\"Let person B inside\")\n",
        "else:\n",
        "  print(\"dont let them in\")\n",
        "  "
      ],
      "metadata": {
        "colab": {
          "base_uri": "https://localhost:8080/"
        },
        "id": "tPnAbKKyQZMU",
        "outputId": "8a1aec44-b64e-4fcd-fe20-e27bbea1832e"
      },
      "execution_count": null,
      "outputs": [
        {
          "output_type": "stream",
          "name": "stdout",
          "text": [
            "let them in\n"
          ]
        }
      ]
    },
    {
      "cell_type": "code",
      "source": [
        "lst_var=['Delhi','banglore','mumbai','hyderabad', \"chennai\"]\n",
        "if \"chennai\" in lst_var:\n",
        "  print(\"buoy you found it\")\n",
        "else:\n",
        "  print(\"better luck next time\")"
      ],
      "metadata": {
        "colab": {
          "base_uri": "https://localhost:8080/"
        },
        "id": "u4xdjWvHRv9C",
        "outputId": "032adfbe-1305-4207-e356-d5c30cafd1ab"
      },
      "execution_count": null,
      "outputs": [
        {
          "output_type": "stream",
          "name": "stdout",
          "text": [
            "buoy you found it\n"
          ]
        }
      ]
    },
    {
      "cell_type": "code",
      "source": [
        "lst_var=[23,45,67,89,90,41,24,56,79,25,67]\n",
        "lst_var[4]=101\n",
        "print(lst_var)"
      ],
      "metadata": {
        "colab": {
          "base_uri": "https://localhost:8080/"
        },
        "id": "868d4CnhU-S3",
        "outputId": "e42cb21e-3d86-4ae0-f512-87a83f5110b3"
      },
      "execution_count": null,
      "outputs": [
        {
          "output_type": "stream",
          "name": "stdout",
          "text": [
            "[23, 45, 67, 89, 101, 41, 24, 56, 79, 25, 67]\n"
          ]
        }
      ]
    },
    {
      "cell_type": "code",
      "source": [
        "print(lst_var[:5])"
      ],
      "metadata": {
        "colab": {
          "base_uri": "https://localhost:8080/"
        },
        "id": "w85j0z_4WoyH",
        "outputId": "65a870d1-3b3e-4c63-91d0-c836eb010552"
      },
      "execution_count": null,
      "outputs": [
        {
          "output_type": "stream",
          "name": "stdout",
          "text": [
            "[23, 45, 67, 89, 101]\n"
          ]
        }
      ]
    },
    {
      "cell_type": "code",
      "source": [
        "allowed_input['1','2','3','4','6','w','wd','n']\n",
        "if x=6\n",
        "  print(\"alien de villiers\")\n",
        "elif x=4\n",
        "  print(\"magnificent four by de villiers\")\n",
        "else:\n",
        "  print(\"good running between wickets\")\n"
      ],
      "metadata": {
        "colab": {
          "base_uri": "https://localhost:8080/",
          "height": 131
        },
        "id": "_fHMv4BgXBto",
        "outputId": "d8c3bbe5-82d6-4aae-8518-68c89d1729b9"
      },
      "execution_count": null,
      "outputs": [
        {
          "output_type": "error",
          "ename": "SyntaxError",
          "evalue": "ignored",
          "traceback": [
            "\u001b[0;36m  File \u001b[0;32m\"<ipython-input-68-16a4ec582d89>\"\u001b[0;36m, line \u001b[0;32m2\u001b[0m\n\u001b[0;31m    if x=6\u001b[0m\n\u001b[0m        ^\u001b[0m\n\u001b[0;31mSyntaxError\u001b[0m\u001b[0;31m:\u001b[0m invalid syntax\n"
          ]
        }
      ]
    },
    {
      "cell_type": "code",
      "source": [
        "age=18\n",
        "print(id(age))"
      ],
      "metadata": {
        "id": "DOlAHLXNceOI",
        "colab": {
          "base_uri": "https://localhost:8080/"
        },
        "outputId": "7c312f36-8910-4062-dda8-f7bd281039ff"
      },
      "execution_count": null,
      "outputs": [
        {
          "output_type": "stream",
          "name": "stdout",
          "text": [
            "11256608\n"
          ]
        }
      ]
    },
    {
      "cell_type": "code",
      "source": [
        "ip=input()\n",
        "print(ip)\n",
        "print(type(ip))"
      ],
      "metadata": {
        "colab": {
          "base_uri": "https://localhost:8080/"
        },
        "id": "cLktU1A-NYZi",
        "outputId": "d78456b9-4129-40ad-ba52-96a778dbebf7"
      },
      "execution_count": null,
      "outputs": [
        {
          "output_type": "stream",
          "name": "stdout",
          "text": [
            "18\n",
            "<class 'str'>\n"
          ]
        }
      ]
    },
    {
      "cell_type": "code",
      "source": [
        "name=input(\"enter your name\")\n",
        "age=input(\"enter your age\")\n",
        "print(name,age)\n",
        "print(name,age,sep=\"##\")\n",
        "print(name,age,sep=\"##\",end=\"$$\")\n",
        "print('we are done')"
      ],
      "metadata": {
        "colab": {
          "base_uri": "https://localhost:8080/"
        },
        "id": "MNExbeYVPuMY",
        "outputId": "0575ab6a-cdcf-4dbc-fa07-a6a81684b349"
      },
      "execution_count": null,
      "outputs": [
        {
          "output_type": "stream",
          "name": "stdout",
          "text": [
            "enter your namegk\n",
            "enter your age18\n",
            "gk 18\n",
            "gk##18\n",
            "gk##18$$we are done\n"
          ]
        }
      ]
    },
    {
      "cell_type": "code",
      "source": [
        "list=[2,7]\n",
        "print(list)"
      ],
      "metadata": {
        "colab": {
          "base_uri": "https://localhost:8080/"
        },
        "id": "IIbCN8ylRqxz",
        "outputId": "cb677d37-525d-4aa9-cf55-1437d432f639"
      },
      "execution_count": null,
      "outputs": [
        {
          "output_type": "stream",
          "name": "stdout",
          "text": [
            "[2, 7]\n"
          ]
        }
      ]
    },
    {
      "cell_type": "code",
      "source": [
        "tuple=(1,2,3)\n",
        "\n",
        "print(tuple)\n",
        "print(type(tuple))"
      ],
      "metadata": {
        "colab": {
          "base_uri": "https://localhost:8080/"
        },
        "id": "p9wgVgs7V9lJ",
        "outputId": "48ed492a-d821-4f68-d460-36fe2a7bf6c2"
      },
      "execution_count": null,
      "outputs": [
        {
          "output_type": "stream",
          "name": "stdout",
          "text": [
            "(1, 2, 3)\n",
            "<class 'tuple'>\n"
          ]
        }
      ]
    },
    {
      "cell_type": "code",
      "source": [
        "a={45,98,22,22,12,32,32,32,32,32,3,23}\n",
        "print(type(a))\n",
        "print(a)"
      ],
      "metadata": {
        "colab": {
          "base_uri": "https://localhost:8080/"
        },
        "id": "0P2hnvgqWDJG",
        "outputId": "55d32f1a-4fd0-4903-f395-7d351766f9ad"
      },
      "execution_count": null,
      "outputs": [
        {
          "output_type": "stream",
          "name": "stdout",
          "text": [
            "<class 'set'>\n",
            "{32, 98, 3, 12, 45, 22, 23}\n"
          ]
        }
      ]
    },
    {
      "cell_type": "code",
      "source": [
        "a"
      ],
      "metadata": {
        "colab": {
          "base_uri": "https://localhost:8080/"
        },
        "id": "MnvWRXADXSKa",
        "outputId": "ba4b7fd2-4955-4404-e601-eec588d9f037"
      },
      "execution_count": null,
      "outputs": [
        {
          "output_type": "execute_result",
          "data": {
            "text/plain": [
              "{3, 12, 22, 23, 32, 45, 98}"
            ]
          },
          "metadata": {},
          "execution_count": 30
        }
      ]
    },
    {
      "cell_type": "code",
      "source": [
        "tupleh=\"add\"\n"
      ],
      "metadata": {
        "colab": {
          "base_uri": "https://localhost:8080/"
        },
        "id": "5D_e0iVHYJCD",
        "outputId": "1caa2396-8931-493e-9f8c-6ac3b326c8eb"
      },
      "execution_count": null,
      "outputs": [
        {
          "output_type": "execute_result",
          "data": {
            "text/plain": [
              "(1, 2, 3)"
            ]
          },
          "metadata": {},
          "execution_count": 31
        }
      ]
    },
    {
      "cell_type": "code",
      "source": [
        "h=\"add\"\n",
        "a={12,23,45,13,h}\n",
        "print(type(a))"
      ],
      "metadata": {
        "colab": {
          "base_uri": "https://localhost:8080/"
        },
        "id": "fVA3XRxjYdsQ",
        "outputId": "3c9f997d-8a19-488c-b764-5c2de994c358"
      },
      "execution_count": null,
      "outputs": [
        {
          "output_type": "stream",
          "name": "stdout",
          "text": [
            "<class 'set'>\n"
          ]
        }
      ]
    },
    {
      "cell_type": "code",
      "source": [
        "a\n"
      ],
      "metadata": {
        "colab": {
          "base_uri": "https://localhost:8080/"
        },
        "id": "V33Pry73ZGQB",
        "outputId": "8b663a49-b705-48c7-c748-06e4e6da46ca"
      },
      "execution_count": null,
      "outputs": [
        {
          "output_type": "execute_result",
          "data": {
            "text/plain": [
              "{12, 13, 23, 45, 'add'}"
            ]
          },
          "metadata": {},
          "execution_count": 38
        }
      ]
    },
    {
      "cell_type": "code",
      "source": [
        "marks={\"A\":92,\n",
        "       \"B\":90,\n",
        "       \"C\":45}\n",
        "print(marks[\"A\"])"
      ],
      "metadata": {
        "colab": {
          "base_uri": "https://localhost:8080/"
        },
        "id": "eHT6GF-pZVLZ",
        "outputId": "ea87c673-a4dc-4d85-a8d3-a604c7421b4d"
      },
      "execution_count": null,
      "outputs": [
        {
          "output_type": "stream",
          "name": "stdout",
          "text": [
            "92\n"
          ]
        }
      ]
    },
    {
      "cell_type": "code",
      "source": [
        "a=\"20\"\n",
        "print(type(a))\n",
        "a=int(a)\n",
        "print(type(a))"
      ],
      "metadata": {
        "colab": {
          "base_uri": "https://localhost:8080/"
        },
        "id": "a5YjkEG2aRUE",
        "outputId": "3dc3fd06-4530-4b69-be52-859f9aa33a4b"
      },
      "execution_count": null,
      "outputs": [
        {
          "output_type": "stream",
          "name": "stdout",
          "text": [
            "<class 'str'>\n",
            "<class 'int'>\n"
          ]
        }
      ]
    },
    {
      "cell_type": "code",
      "source": [
        "a=int(input(\"enter your age\"))\n",
        "if a>18:\n",
        "  print(\"he is an adult\")\n",
        "elif a==18:\n",
        "  print(\"you are at border\")\n",
        "else: \n",
        "  print(\"he is young\")\n"
      ],
      "metadata": {
        "colab": {
          "base_uri": "https://localhost:8080/"
        },
        "id": "G5k7JxZubpbL",
        "outputId": "2e86a227-27ac-46b1-b9bf-7f0862fea7b1"
      },
      "execution_count": null,
      "outputs": [
        {
          "output_type": "stream",
          "name": "stdout",
          "text": [
            "enter your age18\n",
            "you are at border\n"
          ]
        }
      ]
    },
    {
      "cell_type": "code",
      "source": [
        "marks=33\n",
        "print(type(marks))\n",
        "marks=float(marks)\n",
        "print(type(marks))\n",
        "print(marks)"
      ],
      "metadata": {
        "colab": {
          "base_uri": "https://localhost:8080/"
        },
        "id": "cwPPAbm6ciP1",
        "outputId": "0668c5a9-44d0-4194-b3f2-12daec8d1e59"
      },
      "execution_count": null,
      "outputs": [
        {
          "output_type": "stream",
          "name": "stdout",
          "text": [
            "<class 'int'>\n",
            "<class 'float'>\n",
            "33.0\n"
          ]
        }
      ]
    },
    {
      "cell_type": "code",
      "source": [
        "lst=(23,31,12,32,100,32,32,100)\n",
        "lst=set(lst)\n",
        "print(type(lst))"
      ],
      "metadata": {
        "colab": {
          "base_uri": "https://localhost:8080/"
        },
        "id": "SXBuZlO9e5-J",
        "outputId": "bf7abed8-50d4-4ab2-fd32-d3291180d5f6"
      },
      "execution_count": null,
      "outputs": [
        {
          "output_type": "stream",
          "name": "stdout",
          "text": [
            "<class 'set'>\n"
          ]
        }
      ]
    },
    {
      "cell_type": "code",
      "source": [
        "lst\n"
      ],
      "metadata": {
        "colab": {
          "base_uri": "https://localhost:8080/"
        },
        "id": "r8sHU_fFfWHq",
        "outputId": "62e863af-cd4e-44b8-a0c0-85d035dabe5f"
      },
      "execution_count": null,
      "outputs": [
        {
          "output_type": "execute_result",
          "data": {
            "text/plain": [
              "{12, 23, 31, 32, 100}"
            ]
          },
          "metadata": {},
          "execution_count": 61
        }
      ]
    },
    {
      "cell_type": "code",
      "source": [
        "var_str=\"this is september\"\n",
        "var_str.upper()\n"
      ],
      "metadata": {
        "id": "hGmc4xIBfXk8",
        "colab": {
          "base_uri": "https://localhost:8080/",
          "height": 35
        },
        "outputId": "c12aafb3-37cc-442e-81fc-5b232f642e5d"
      },
      "execution_count": null,
      "outputs": [
        {
          "output_type": "execute_result",
          "data": {
            "text/plain": [
              "'THIS IS SEPTEMBER'"
            ],
            "application/vnd.google.colaboratory.intrinsic+json": {
              "type": "string"
            }
          },
          "metadata": {},
          "execution_count": 3
        }
      ]
    },
    {
      "cell_type": "code",
      "source": [
        "var_str.title()"
      ],
      "metadata": {
        "colab": {
          "base_uri": "https://localhost:8080/",
          "height": 35
        },
        "id": "vVmo0MnsVka0",
        "outputId": "75a8fc3d-c01a-4d5e-fc61-7382041219fe"
      },
      "execution_count": null,
      "outputs": [
        {
          "output_type": "execute_result",
          "data": {
            "text/plain": [
              "'This Is September'"
            ],
            "application/vnd.google.colaboratory.intrinsic+json": {
              "type": "string"
            }
          },
          "metadata": {},
          "execution_count": 6
        }
      ]
    },
    {
      "cell_type": "code",
      "source": [
        "input(\"enter your age\")"
      ],
      "metadata": {
        "colab": {
          "base_uri": "https://localhost:8080/",
          "height": 52
        },
        "id": "AuS0OmDnWYEw",
        "outputId": "d227c978-067a-43c7-e491-b492502251fe"
      },
      "execution_count": null,
      "outputs": [
        {
          "name": "stdout",
          "output_type": "stream",
          "text": [
            "enter your age18\n"
          ]
        },
        {
          "output_type": "execute_result",
          "data": {
            "text/plain": [
              "'18'"
            ],
            "application/vnd.google.colaboratory.intrinsic+json": {
              "type": "string"
            }
          },
          "metadata": {},
          "execution_count": 8
        }
      ]
    },
    {
      "cell_type": "code",
      "source": [
        "var_str='todayis9september'\n",
        "print(var_str.isalnum())"
      ],
      "metadata": {
        "colab": {
          "base_uri": "https://localhost:8080/"
        },
        "id": "Wv-2vf3RXmY3",
        "outputId": "f69fa772-5a8d-411c-a6da-ebab5a053830"
      },
      "execution_count": null,
      "outputs": [
        {
          "output_type": "stream",
          "name": "stdout",
          "text": [
            "True\n"
          ]
        }
      ]
    },
    {
      "cell_type": "code",
      "source": [
        "var_str='this is september'\n",
        "print(var_str[0])\n",
        "print(var_str[2:6])\n",
        "print(var_str[-2])\n",
        "print(list(var_str))\n",
        "print(var_str.split())\n"
      ],
      "metadata": {
        "colab": {
          "base_uri": "https://localhost:8080/"
        },
        "id": "VWr3CX_DapU1",
        "outputId": "0533709f-8721-4568-ada3-f3a4fa0171c6"
      },
      "execution_count": null,
      "outputs": [
        {
          "output_type": "stream",
          "name": "stdout",
          "text": [
            "t\n",
            "is i\n",
            "e\n",
            "['t', 'h', 'i', 's', ' ', 'i', 's', ' ', 's', 'e', 'p', 't', 'e', 'm', 'b', 'e', 'r']\n",
            "['this', 'is', 'september']\n"
          ]
        }
      ]
    },
    {
      "cell_type": "code",
      "source": [
        "fname=\"daily_job_09092022.txt\"\n",
        "print(fname.split(\"_\")[-1][:-4])"
      ],
      "metadata": {
        "colab": {
          "base_uri": "https://localhost:8080/"
        },
        "id": "ozE4GNtJjXB8",
        "outputId": "c42e2d68-f4ce-4200-f87b-579ccc86321c"
      },
      "execution_count": null,
      "outputs": [
        {
          "output_type": "stream",
          "name": "stdout",
          "text": [
            "09092022\n"
          ]
        }
      ]
    },
    {
      "cell_type": "code",
      "source": [
        "pokelist=[12,13,14,\"jiggypuff\",\"1\",\"2\"]\n",
        "for poke in pokelist:\n",
        "    print(poke)\n",
        "if poke==\"jiggypuff\":\n",
        "    print(\"found\")\n",
        "else:\n",
        "   print(\"continue\")"
      ],
      "metadata": {
        "id": "UfwdTXmrkyUD",
        "colab": {
          "base_uri": "https://localhost:8080/"
        },
        "outputId": "837e32c7-1e0b-44d0-9e38-456b17a4826e"
      },
      "execution_count": null,
      "outputs": [
        {
          "output_type": "stream",
          "name": "stdout",
          "text": [
            "12\n",
            "13\n",
            "14\n",
            "jiggypuff\n",
            "1\n",
            "2\n",
            "continue\n"
          ]
        }
      ]
    },
    {
      "cell_type": "code",
      "source": [
        "v1=\"pikachu\"\n",
        "v2=\"raichu\"\n",
        "print(v1[0])\n",
        "print(v1[-1])\n",
        "print(v1[:3])\n",
        "print(v1[6:3:])"
      ],
      "metadata": {
        "colab": {
          "base_uri": "https://localhost:8080/"
        },
        "id": "vVYU0lrQ2-UK",
        "outputId": "3289bc3e-2ff4-43c7-8473-366467538199"
      },
      "execution_count": null,
      "outputs": [
        {
          "output_type": "stream",
          "name": "stdout",
          "text": [
            "p\n",
            "u\n",
            "pik\n",
            "\n"
          ]
        }
      ]
    },
    {
      "cell_type": "code",
      "source": [
        "L=[\"Bulbasaur_21\",\"coocoo_54\",\"squirtle_42\",\"charmandes.09\",\"Groudon_69\",\"seviper_68\",\"paras_00\",\"Greyninja_07\",\"Gengar_69\"]\n",
        "for i in L:\n",
        "  K = i.startswith(\"G\")\n",
        "  if K== True:\n",
        "    L1=i.find(\"_\")\n",
        "    print(i[:L1])\n"
      ],
      "metadata": {
        "id": "0S3lWKIX5CSV",
        "colab": {
          "base_uri": "https://localhost:8080/"
        },
        "outputId": "083ab867-be82-4d38-9b8b-8cc4e06ddf2c"
      },
      "execution_count": 52,
      "outputs": [
        {
          "output_type": "stream",
          "name": "stdout",
          "text": [
            "Groudon\n",
            "Greyninja\n",
            "Gengar\n"
          ]
        }
      ]
    },
    {
      "cell_type": "code",
      "source": [
        "L2=[]\n",
        "for i in L[::2]:\n",
        "    L2.append(i)\n",
        "L2"
      ],
      "metadata": {
        "colab": {
          "base_uri": "https://localhost:8080/"
        },
        "id": "bWNDLwEsZLUw",
        "outputId": "511dc9e7-4df9-4e3f-9aee-c57ebe477188"
      },
      "execution_count": 63,
      "outputs": [
        {
          "output_type": "execute_result",
          "data": {
            "text/plain": [
              "['Bulbasaur_21', 'squirtle_42', 'Groudon_69', 'paras_00', 'Gengar_69']"
            ]
          },
          "metadata": {},
          "execution_count": 63
        }
      ]
    }
  ]
}